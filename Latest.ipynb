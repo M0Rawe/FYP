{
 "cells": [
  {
   "cell_type": "code",
   "execution_count": 1,
   "id": "f6495bc9",
   "metadata": {},
   "outputs": [
    {
     "name": "stderr",
     "output_type": "stream",
     "text": [
      "2023-04-12 21:51:12.870917: I tensorflow/core/platform/cpu_feature_guard.cc:193] This TensorFlow binary is optimized with oneAPI Deep Neural Network Library (oneDNN) to use the following CPU instructions in performance-critical operations:  AVX2 FMA\n",
      "To enable them in other operations, rebuild TensorFlow with the appropriate compiler flags.\n",
      "2023-04-12 21:51:13.143745: W tensorflow/compiler/xla/stream_executor/platform/default/dso_loader.cc:64] Could not load dynamic library 'libcudart.so.11.0'; dlerror: libcudart.so.11.0: cannot open shared object file: No such file or directory; LD_LIBRARY_PATH: /usr/lib/x86_64-linux-gnu/gazebo-11/plugins:/opt/ros/humble/opt/rviz_ogre_vendor/lib:/opt/ros/humble/lib/x86_64-linux-gnu:/opt/ros/humble/lib\n",
      "2023-04-12 21:51:13.143776: I tensorflow/compiler/xla/stream_executor/cuda/cudart_stub.cc:29] Ignore above cudart dlerror if you do not have a GPU set up on your machine.\n",
      "2023-04-12 21:51:14.040888: W tensorflow/compiler/xla/stream_executor/platform/default/dso_loader.cc:64] Could not load dynamic library 'libnvinfer.so.7'; dlerror: libnvinfer.so.7: cannot open shared object file: No such file or directory; LD_LIBRARY_PATH: /usr/lib/x86_64-linux-gnu/gazebo-11/plugins:/opt/ros/humble/opt/rviz_ogre_vendor/lib:/opt/ros/humble/lib/x86_64-linux-gnu:/opt/ros/humble/lib\n",
      "2023-04-12 21:51:14.040985: W tensorflow/compiler/xla/stream_executor/platform/default/dso_loader.cc:64] Could not load dynamic library 'libnvinfer_plugin.so.7'; dlerror: libnvinfer_plugin.so.7: cannot open shared object file: No such file or directory; LD_LIBRARY_PATH: /usr/lib/x86_64-linux-gnu/gazebo-11/plugins:/opt/ros/humble/opt/rviz_ogre_vendor/lib:/opt/ros/humble/lib/x86_64-linux-gnu:/opt/ros/humble/lib\n",
      "2023-04-12 21:51:14.040993: W tensorflow/compiler/tf2tensorrt/utils/py_utils.cc:38] TF-TRT Warning: Cannot dlopen some TensorRT libraries. If you would like to use Nvidia GPU with TensorRT, please make sure the missing libraries mentioned above are installed properly.\n"
     ]
    }
   ],
   "source": [
    "import pandas as pd\n",
    "import numpy as np\n",
    "from keras.models import Sequential\n",
    "from keras.layers import LSTM, Dense, Dropout\n",
    "import matplotlib.pyplot as plt"
   ]
  },
  {
   "cell_type": "code",
   "execution_count": 2,
   "id": "248915e6",
   "metadata": {},
   "outputs": [],
   "source": [
    "data = pd.read_csv(\"4_frame.txt\", header=None)\n",
    "data.columns = [\"frame_id\", \"pedestrian_id\", \"x_position\", \"y_position\", \"z_position\"]"
   ]
  },
  {
   "cell_type": "code",
   "execution_count": 3,
   "id": "6e138cc7",
   "metadata": {},
   "outputs": [],
   "source": [
    "data = data.drop(columns=[\"z_position\"])"
   ]
  },
  {
   "cell_type": "code",
   "execution_count": 4,
   "id": "6575e1c9",
   "metadata": {},
   "outputs": [],
   "source": [
    "input_seq = []\n",
    "output_seq = []\n",
    "for pedestrian_id in data['pedestrian_id'].unique():\n",
    "    ped_data = data[data['pedestrian_id'] == pedestrian_id]\n",
    "    positions = ped_data[['x_position', 'y_position']].values\n",
    "    for i in range(len(positions)-1):\n",
    "        input_seq.append(positions[i])\n",
    "        output_seq.append(positions[i+1])"
   ]
  },
  {
   "cell_type": "code",
   "execution_count": 5,
   "id": "41946da3",
   "metadata": {},
   "outputs": [],
   "source": [
    "input_seq = np.array(input_seq)\n",
    "output_seq = np.array(output_seq)"
   ]
  },
  {
   "cell_type": "code",
   "execution_count": 6,
   "id": "d478d951",
   "metadata": {},
   "outputs": [],
   "source": [
    "input_seq = np.reshape(input_seq, (input_seq.shape[0], 1, input_seq.shape[1]))\n",
    "output_seq = np.reshape(output_seq, (output_seq.shape[0], output_seq.shape[1]))"
   ]
  },
  {
   "cell_type": "code",
   "execution_count": 7,
   "id": "55e50019",
   "metadata": {
    "scrolled": true
   },
   "outputs": [
    {
     "name": "stderr",
     "output_type": "stream",
     "text": [
      "2023-04-12 21:51:16.690224: W tensorflow/compiler/xla/stream_executor/platform/default/dso_loader.cc:64] Could not load dynamic library 'libcuda.so.1'; dlerror: libcuda.so.1: cannot open shared object file: No such file or directory; LD_LIBRARY_PATH: /usr/lib/x86_64-linux-gnu/gazebo-11/plugins:/opt/ros/humble/opt/rviz_ogre_vendor/lib:/opt/ros/humble/lib/x86_64-linux-gnu:/opt/ros/humble/lib\n",
      "2023-04-12 21:51:16.690249: W tensorflow/compiler/xla/stream_executor/cuda/cuda_driver.cc:265] failed call to cuInit: UNKNOWN ERROR (303)\n",
      "2023-04-12 21:51:16.690271: I tensorflow/compiler/xla/stream_executor/cuda/cuda_diagnostics.cc:156] kernel driver does not appear to be running on this host (Michael-laptop): /proc/driver/nvidia/version does not exist\n",
      "2023-04-12 21:51:16.690514: I tensorflow/core/platform/cpu_feature_guard.cc:193] This TensorFlow binary is optimized with oneAPI Deep Neural Network Library (oneDNN) to use the following CPU instructions in performance-critical operations:  AVX2 FMA\n",
      "To enable them in other operations, rebuild TensorFlow with the appropriate compiler flags.\n"
     ]
    }
   ],
   "source": [
    "model = Sequential()\n",
    "model.add(LSTM(64, input_shape=(1, 2), return_sequences=True))\n",
    "model.add(Dropout(0.1))\n",
    "model.add(LSTM(32))\n",
    "model.add(Dense(2))"
   ]
  },
  {
   "cell_type": "code",
   "execution_count": 8,
   "id": "39a3d029",
   "metadata": {},
   "outputs": [],
   "source": [
    "model.compile(loss='mse', optimizer='adam')"
   ]
  },
  {
   "cell_type": "code",
   "execution_count": 9,
   "id": "597ae5b4",
   "metadata": {},
   "outputs": [],
   "source": [
    "train_size = int(0.8 * len(input_seq))\n",
    "train_input_seq = input_seq[:train_size]\n",
    "train_output_seq = output_seq[:train_size]\n",
    "val_input_seq = input_seq[train_size:]\n",
    "val_output_seq = output_seq[train_size:]"
   ]
  },
  {
   "cell_type": "code",
   "execution_count": 10,
   "id": "9f112e9e",
   "metadata": {},
   "outputs": [
    {
     "name": "stdout",
     "output_type": "stream",
     "text": [
      "Epoch 1/100\n",
      "11078/11078 - 54s - loss: 2850.9470 - val_loss: 210.3456 - 54s/epoch - 5ms/step\n",
      "Epoch 2/100\n",
      "11078/11078 - 51s - loss: 57.7780 - val_loss: 15.0764 - 51s/epoch - 5ms/step\n",
      "Epoch 3/100\n",
      "11078/11078 - 51s - loss: 22.9763 - val_loss: 8.7899 - 51s/epoch - 5ms/step\n",
      "Epoch 4/100\n",
      "11078/11078 - 51s - loss: 18.4188 - val_loss: 12.0837 - 51s/epoch - 5ms/step\n",
      "Epoch 5/100\n",
      "11078/11078 - 51s - loss: 15.9289 - val_loss: 8.9861 - 51s/epoch - 5ms/step\n",
      "Epoch 6/100\n",
      "11078/11078 - 51s - loss: 14.6304 - val_loss: 7.2697 - 51s/epoch - 5ms/step\n",
      "Epoch 7/100\n",
      "11078/11078 - 51s - loss: 13.1013 - val_loss: 5.7233 - 51s/epoch - 5ms/step\n",
      "Epoch 8/100\n",
      "11078/11078 - 51s - loss: 11.9212 - val_loss: 6.4418 - 51s/epoch - 5ms/step\n",
      "Epoch 9/100\n",
      "11078/11078 - 51s - loss: 11.2884 - val_loss: 14.1678 - 51s/epoch - 5ms/step\n",
      "Epoch 10/100\n",
      "11078/11078 - 51s - loss: 10.5298 - val_loss: 7.6335 - 51s/epoch - 5ms/step\n",
      "Epoch 11/100\n",
      "11078/11078 - 51s - loss: 10.2070 - val_loss: 4.4704 - 51s/epoch - 5ms/step\n",
      "Epoch 12/100\n",
      "11078/11078 - 51s - loss: 9.7086 - val_loss: 6.9839 - 51s/epoch - 5ms/step\n",
      "Epoch 13/100\n",
      "11078/11078 - 51s - loss: 9.4641 - val_loss: 4.7773 - 51s/epoch - 5ms/step\n",
      "Epoch 14/100\n",
      "11078/11078 - 51s - loss: 9.3330 - val_loss: 3.9755 - 51s/epoch - 5ms/step\n",
      "Epoch 15/100\n",
      "11078/11078 - 51s - loss: 8.9102 - val_loss: 4.6758 - 51s/epoch - 5ms/step\n",
      "Epoch 16/100\n",
      "11078/11078 - 51s - loss: 8.7647 - val_loss: 6.5101 - 51s/epoch - 5ms/step\n",
      "Epoch 17/100\n",
      "11078/11078 - 51s - loss: 8.7086 - val_loss: 7.5043 - 51s/epoch - 5ms/step\n",
      "Epoch 18/100\n",
      "11078/11078 - 51s - loss: 8.5349 - val_loss: 6.9836 - 51s/epoch - 5ms/step\n",
      "Epoch 19/100\n",
      "11078/11078 - 51s - loss: 8.1881 - val_loss: 4.0333 - 51s/epoch - 5ms/step\n",
      "Epoch 20/100\n",
      "11078/11078 - 51s - loss: 7.9037 - val_loss: 5.4142 - 51s/epoch - 5ms/step\n",
      "Epoch 21/100\n",
      "11078/11078 - 51s - loss: 7.7445 - val_loss: 10.8515 - 51s/epoch - 5ms/step\n",
      "Epoch 22/100\n",
      "11078/11078 - 51s - loss: 7.6120 - val_loss: 6.3401 - 51s/epoch - 5ms/step\n",
      "Epoch 23/100\n",
      "11078/11078 - 51s - loss: 7.6179 - val_loss: 5.9002 - 51s/epoch - 5ms/step\n",
      "Epoch 24/100\n",
      "11078/11078 - 51s - loss: 7.3908 - val_loss: 4.2987 - 51s/epoch - 5ms/step\n",
      "Epoch 25/100\n",
      "11078/11078 - 51s - loss: 7.3752 - val_loss: 2.8410 - 51s/epoch - 5ms/step\n",
      "Epoch 26/100\n",
      "11078/11078 - 51s - loss: 7.3309 - val_loss: 6.3239 - 51s/epoch - 5ms/step\n",
      "Epoch 27/100\n",
      "11078/11078 - 51s - loss: 7.3383 - val_loss: 3.4974 - 51s/epoch - 5ms/step\n",
      "Epoch 28/100\n",
      "11078/11078 - 51s - loss: 7.2855 - val_loss: 3.9417 - 51s/epoch - 5ms/step\n",
      "Epoch 29/100\n",
      "11078/11078 - 51s - loss: 7.1457 - val_loss: 2.8384 - 51s/epoch - 5ms/step\n",
      "Epoch 30/100\n",
      "11078/11078 - 51s - loss: 7.0151 - val_loss: 2.7565 - 51s/epoch - 5ms/step\n",
      "Epoch 31/100\n",
      "11078/11078 - 51s - loss: 6.8781 - val_loss: 3.5966 - 51s/epoch - 5ms/step\n",
      "Epoch 32/100\n",
      "11078/11078 - 51s - loss: 6.7408 - val_loss: 6.3826 - 51s/epoch - 5ms/step\n",
      "Epoch 33/100\n",
      "11078/11078 - 51s - loss: 6.6588 - val_loss: 2.8361 - 51s/epoch - 5ms/step\n",
      "Epoch 34/100\n",
      "11078/11078 - 51s - loss: 6.5487 - val_loss: 4.3225 - 51s/epoch - 5ms/step\n",
      "Epoch 35/100\n",
      "11078/11078 - 51s - loss: 6.6859 - val_loss: 3.6328 - 51s/epoch - 5ms/step\n",
      "Epoch 36/100\n",
      "11078/11078 - 51s - loss: 6.4853 - val_loss: 3.0905 - 51s/epoch - 5ms/step\n",
      "Epoch 37/100\n",
      "11078/11078 - 51s - loss: 6.4271 - val_loss: 2.8331 - 51s/epoch - 5ms/step\n",
      "Epoch 38/100\n",
      "11078/11078 - 51s - loss: 6.3272 - val_loss: 3.5958 - 51s/epoch - 5ms/step\n",
      "Epoch 39/100\n",
      "11078/11078 - 51s - loss: 6.1676 - val_loss: 2.2142 - 51s/epoch - 5ms/step\n",
      "Epoch 40/100\n",
      "11078/11078 - 51s - loss: 6.0997 - val_loss: 3.3746 - 51s/epoch - 5ms/step\n",
      "Epoch 41/100\n",
      "11078/11078 - 51s - loss: 6.0905 - val_loss: 4.9184 - 51s/epoch - 5ms/step\n",
      "Epoch 42/100\n",
      "11078/11078 - 51s - loss: 5.9925 - val_loss: 7.2099 - 51s/epoch - 5ms/step\n",
      "Epoch 43/100\n",
      "11078/11078 - 51s - loss: 5.9210 - val_loss: 10.1827 - 51s/epoch - 5ms/step\n",
      "Epoch 44/100\n",
      "11078/11078 - 51s - loss: 5.7799 - val_loss: 4.7021 - 51s/epoch - 5ms/step\n",
      "Epoch 45/100\n",
      "11078/11078 - 51s - loss: 5.7389 - val_loss: 3.3719 - 51s/epoch - 5ms/step\n",
      "Epoch 46/100\n",
      "11078/11078 - 51s - loss: 5.6576 - val_loss: 4.4634 - 51s/epoch - 5ms/step\n",
      "Epoch 47/100\n",
      "11078/11078 - 51s - loss: 5.5884 - val_loss: 3.2467 - 51s/epoch - 5ms/step\n",
      "Epoch 48/100\n",
      "11078/11078 - 51s - loss: 5.4573 - val_loss: 2.5262 - 51s/epoch - 5ms/step\n",
      "Epoch 49/100\n",
      "11078/11078 - 51s - loss: 5.4112 - val_loss: 4.3012 - 51s/epoch - 5ms/step\n",
      "Epoch 50/100\n",
      "11078/11078 - 51s - loss: 5.3610 - val_loss: 3.6741 - 51s/epoch - 5ms/step\n",
      "Epoch 51/100\n",
      "11078/11078 - 51s - loss: 5.2487 - val_loss: 4.0804 - 51s/epoch - 5ms/step\n",
      "Epoch 52/100\n",
      "11078/11078 - 51s - loss: 5.0792 - val_loss: 2.7012 - 51s/epoch - 5ms/step\n",
      "Epoch 53/100\n",
      "11078/11078 - 51s - loss: 5.1353 - val_loss: 3.4485 - 51s/epoch - 5ms/step\n",
      "Epoch 54/100\n",
      "11078/11078 - 51s - loss: 5.0354 - val_loss: 3.5909 - 51s/epoch - 5ms/step\n",
      "Epoch 55/100\n",
      "11078/11078 - 51s - loss: 4.9668 - val_loss: 3.2971 - 51s/epoch - 5ms/step\n",
      "Epoch 56/100\n",
      "11078/11078 - 51s - loss: 4.8747 - val_loss: 4.7093 - 51s/epoch - 5ms/step\n",
      "Epoch 57/100\n",
      "11078/11078 - 51s - loss: 4.8382 - val_loss: 2.8162 - 51s/epoch - 5ms/step\n",
      "Epoch 58/100\n",
      "11078/11078 - 51s - loss: 4.8616 - val_loss: 5.0049 - 51s/epoch - 5ms/step\n",
      "Epoch 59/100\n",
      "11078/11078 - 51s - loss: 4.6474 - val_loss: 6.1762 - 51s/epoch - 5ms/step\n",
      "Epoch 60/100\n",
      "11078/11078 - 51s - loss: 4.6034 - val_loss: 4.8214 - 51s/epoch - 5ms/step\n",
      "Epoch 61/100\n",
      "11078/11078 - 51s - loss: 4.5859 - val_loss: 3.8063 - 51s/epoch - 5ms/step\n",
      "Epoch 62/100\n",
      "11078/11078 - 51s - loss: 4.6141 - val_loss: 4.3896 - 51s/epoch - 5ms/step\n",
      "Epoch 63/100\n",
      "11078/11078 - 51s - loss: 4.4779 - val_loss: 4.3400 - 51s/epoch - 5ms/step\n",
      "Epoch 64/100\n",
      "11078/11078 - 51s - loss: 4.4665 - val_loss: 4.2261 - 51s/epoch - 5ms/step\n",
      "Epoch 65/100\n",
      "11078/11078 - 51s - loss: 4.3753 - val_loss: 4.0736 - 51s/epoch - 5ms/step\n",
      "Epoch 66/100\n",
      "11078/11078 - 51s - loss: 4.3548 - val_loss: 6.0036 - 51s/epoch - 5ms/step\n",
      "Epoch 67/100\n",
      "11078/11078 - 51s - loss: 4.2657 - val_loss: 4.5331 - 51s/epoch - 5ms/step\n",
      "Epoch 68/100\n",
      "11078/11078 - 52s - loss: 4.2177 - val_loss: 4.9718 - 52s/epoch - 5ms/step\n",
      "Epoch 69/100\n",
      "11078/11078 - 51s - loss: 4.2552 - val_loss: 4.0258 - 51s/epoch - 5ms/step\n",
      "Epoch 70/100\n",
      "11078/11078 - 51s - loss: 4.1540 - val_loss: 4.8297 - 51s/epoch - 5ms/step\n",
      "Epoch 71/100\n",
      "11078/11078 - 51s - loss: 4.0907 - val_loss: 4.4843 - 51s/epoch - 5ms/step\n",
      "Epoch 72/100\n",
      "11078/11078 - 51s - loss: 4.0447 - val_loss: 5.1496 - 51s/epoch - 5ms/step\n",
      "Epoch 73/100\n",
      "11078/11078 - 51s - loss: 4.0031 - val_loss: 5.3498 - 51s/epoch - 5ms/step\n",
      "Epoch 74/100\n",
      "11078/11078 - 51s - loss: 4.0026 - val_loss: 6.4984 - 51s/epoch - 5ms/step\n",
      "Epoch 75/100\n",
      "11078/11078 - 52s - loss: 3.9354 - val_loss: 5.1693 - 52s/epoch - 5ms/step\n",
      "Epoch 76/100\n",
      "11078/11078 - 52s - loss: 3.9686 - val_loss: 4.9635 - 52s/epoch - 5ms/step\n",
      "Epoch 77/100\n",
      "11078/11078 - 51s - loss: 3.8517 - val_loss: 5.2267 - 51s/epoch - 5ms/step\n",
      "Epoch 78/100\n",
      "11078/11078 - 51s - loss: 3.8542 - val_loss: 4.4567 - 51s/epoch - 5ms/step\n",
      "Epoch 79/100\n",
      "11078/11078 - 51s - loss: 3.8626 - val_loss: 4.6123 - 51s/epoch - 5ms/step\n",
      "Epoch 80/100\n",
      "11078/11078 - 50s - loss: 3.7881 - val_loss: 5.1855 - 50s/epoch - 5ms/step\n",
      "Epoch 81/100\n",
      "11078/11078 - 49s - loss: 4.2377 - val_loss: 4.0198 - 49s/epoch - 4ms/step\n",
      "Epoch 82/100\n",
      "11078/11078 - 50s - loss: 4.1149 - val_loss: 3.8332 - 50s/epoch - 4ms/step\n",
      "Epoch 83/100\n",
      "11078/11078 - 50s - loss: 4.0991 - val_loss: 4.7988 - 50s/epoch - 4ms/step\n",
      "Epoch 84/100\n",
      "11078/11078 - 49s - loss: 3.9638 - val_loss: 5.2237 - 49s/epoch - 4ms/step\n",
      "Epoch 85/100\n",
      "11078/11078 - 49s - loss: 3.9447 - val_loss: 5.1224 - 49s/epoch - 4ms/step\n",
      "Epoch 86/100\n",
      "11078/11078 - 49s - loss: 3.8711 - val_loss: 4.3868 - 49s/epoch - 4ms/step\n",
      "Epoch 87/100\n",
      "11078/11078 - 49s - loss: 3.8983 - val_loss: 5.7103 - 49s/epoch - 4ms/step\n",
      "Epoch 88/100\n",
      "11078/11078 - 49s - loss: 3.8482 - val_loss: 4.4726 - 49s/epoch - 4ms/step\n",
      "Epoch 89/100\n",
      "11078/11078 - 49s - loss: 3.7678 - val_loss: 5.2031 - 49s/epoch - 4ms/step\n",
      "Epoch 90/100\n",
      "11078/11078 - 49s - loss: 3.7694 - val_loss: 4.8600 - 49s/epoch - 4ms/step\n",
      "Epoch 91/100\n",
      "11078/11078 - 50s - loss: 3.7325 - val_loss: 5.9631 - 50s/epoch - 4ms/step\n",
      "Epoch 92/100\n",
      "11078/11078 - 50s - loss: 3.6692 - val_loss: 5.0766 - 50s/epoch - 4ms/step\n",
      "Epoch 93/100\n",
      "11078/11078 - 49s - loss: 3.6659 - val_loss: 4.3691 - 49s/epoch - 4ms/step\n"
     ]
    },
    {
     "name": "stdout",
     "output_type": "stream",
     "text": [
      "Epoch 94/100\n",
      "11078/11078 - 49s - loss: 3.6847 - val_loss: 4.9540 - 49s/epoch - 4ms/step\n",
      "Epoch 95/100\n",
      "11078/11078 - 50s - loss: 3.9845 - val_loss: 5.7149 - 50s/epoch - 4ms/step\n",
      "Epoch 96/100\n",
      "11078/11078 - 49s - loss: 3.8429 - val_loss: 5.6023 - 49s/epoch - 4ms/step\n",
      "Epoch 97/100\n",
      "11078/11078 - 50s - loss: 3.8769 - val_loss: 5.2800 - 50s/epoch - 4ms/step\n",
      "Epoch 98/100\n",
      "11078/11078 - 50s - loss: 3.9924 - val_loss: 4.8299 - 50s/epoch - 5ms/step\n",
      "Epoch 99/100\n",
      "11078/11078 - 50s - loss: 3.7680 - val_loss: 4.3809 - 50s/epoch - 5ms/step\n",
      "Epoch 100/100\n",
      "11078/11078 - 50s - loss: 3.7036 - val_loss: 4.7833 - 50s/epoch - 4ms/step\n"
     ]
    }
   ],
   "source": [
    "history = model.fit(train_input_seq, train_output_seq, epochs=100, batch_size=32, verbose=2, validation_data=(val_input_seq, val_output_seq))"
   ]
  },
  {
   "cell_type": "code",
   "execution_count": 14,
   "id": "d1124808",
   "metadata": {},
   "outputs": [
    {
     "data": {
      "image/png": "[encoded data removed]",
      "text/plain": [
       "<Figure size 432x288 with 1 Axes>"
      ]
     },
     "metadata": {
      "needs_background": "light"
     },
     "output_type": "display_data"
    }
   ],
   "source": [
    "plt.plot(history.history['loss'][1:])\n",
    "plt.plot(history.history['val_loss'][1:])\n",
    "plt.title('Model Loss')\n",
    "plt.ylabel('Loss')\n",
    "plt.xlabel('Epoch')\n",
    "plt.legend(['train', 'val'], loc='upper right')\n",
    "plt.show()"
   ]
  },
  {
   "cell_type": "code",
   "execution_count": 12,
   "id": "c2c1df64",
   "metadata": {},
   "outputs": [
    {
     "name": "stdout",
     "output_type": "stream",
     "text": [
      "100\n",
      "100\n"
     ]
    }
   ],
   "source": [
    "print(len(history.history['val_loss']))\n",
    "print(len(history.history['loss']))"
   ]
  }
 ],
 "metadata": {
  "kernelspec": {
   "display_name": "Python 3 (ipykernel)",
   "language": "python",
   "name": "python3"
  },
  "language_info": {
   "codemirror_mode": {
    "name": "ipython",
    "version": 3
   },
   "file_extension": ".py",
   "mimetype": "text/x-python",
   "name": "python",
   "nbconvert_exporter": "python",
   "pygments_lexer": "ipython3",
   "version": "3.9.7"
  }
 },
 "nbformat": 4,
 "nbformat_minor": 5
}
